{
 "cells": [
  {
   "cell_type": "markdown",
   "id": "located-roller",
   "metadata": {
    "papermill": {
     "duration": 0.017047,
     "end_time": "2021-05-10T19:26:31.855766",
     "exception": false,
     "start_time": "2021-05-10T19:26:31.838719",
     "status": "completed"
    },
    "tags": []
   },
   "source": [
    "### *This is a mini-project."
   ]
  },
  {
   "cell_type": "markdown",
   "id": "loaded-constitution",
   "metadata": {
    "papermill": {
     "duration": 0.015815,
     "end_time": "2021-05-10T19:26:31.920445",
     "exception": false,
     "start_time": "2021-05-10T19:26:31.904630",
     "status": "completed"
    },
    "tags": []
   },
   "source": []
  },
  {
   "cell_type": "code",
   "execution_count": null,
   "id": "dietary-incidence",
   "metadata": {
    "dc": {
     "key": "4"
    },
    "execution": {
     "iopub.execute_input": "2021-05-10T19:26:31.964649Z",
     "iopub.status.busy": "2021-05-10T19:26:31.963717Z",
     "iopub.status.idle": "2021-05-10T19:26:31.969467Z",
     "shell.execute_reply": "2021-05-10T19:26:31.968657Z"
    },
    "papermill": {
     "duration": 0.03311,
     "end_time": "2021-05-10T19:26:31.969634",
     "exception": false,
     "start_time": "2021-05-10T19:26:31.936524",
     "status": "completed"
    },
    "tags": [
     "sample_code"
    ]
   },
   "outputs": [],
   "source": [
    "# Importing pandas and matplotlib\n",
    "import pandas as pd\n",
    "import matplotlib.pyplot as plt\n",
    "\n",
    "# Start coding!\n",
    "netflix_df = pd.read_csv(\"netflix_data.csv\")\n",
    "\n",
    "#Remove Tv Shows Data\n",
    "netflix_subset = netflix_df[netflix_df[\"type\"] == \"Movie\"]\n",
    "netflix_subset.head()\n",
    "\n",
    "#Select The Netflix Data Column\n",
    "netflix_movies = netflix_subset[[\"title\", \"country\", \"genre\", \"release_year\", \"duration\"]]\n",
    "netflix_movies.head()\n",
    "\n",
    "# Filter for durations shorter than 60 minutes\n",
    "short_movies = netflix_movies[netflix_movies.duration < 60]\n",
    "short_movies.head()\n",
    "\n",
    "# Initialize a list to store colors for each movie\n",
    "colors = []\n",
    "\n",
    "# Iterate over rows of netflix_movies_col_subset\n",
    "for label, row in netflix_movies.iterrows():\n",
    "    if row[\"genre\"] == \"Children\" :\n",
    "        colors.append(\"red\")\n",
    "    elif row[\"genre\"] == \"Documentaries\":\n",
    "        colors.append(\"blue\")\n",
    "    elif row [\"genre\"] == \"Stand-Up\":\n",
    "        colors.append(\"green\")\n",
    "    else:\n",
    "        colors.append(\"black\")\n",
    "        \n",
    "# Inspect the first 10 values in your list        \n",
    "colors[:10]\n",
    "\n",
    "# Set the figure style and initalize a new figure\n",
    "plt.style.use('fivethirtyeight')\n",
    "fig = plt.figure(figsize=(12,8))  \n",
    "\n",
    "# Create a scatter plot of duration versus release_year\n",
    "plt.scatter(netflix_movies.release_year, netflix_movies.duration,color = colors)\n",
    "\n",
    "# Create a title and axis labels\n",
    "plt.title(\"Movie Duration by Year of Release\")\n",
    "plt.xlabel(\"Release year\")\n",
    "plt.ylabel(\"Duration (min)\")\n",
    "\n",
    "# Show the plot\n",
    "plt.show()\n",
    "\n",
    "# Are we certain that movies are getting shorter?\n",
    "answer = \"maybe\""
   ]
  }
 ],
 "metadata": {
  "kernelspec": {
   "display_name": "Python 3",
   "language": "python",
   "name": "python3"
  },
  "language_info": {
   "codemirror_mode": {
    "name": "ipython",
    "version": 3
   },
   "file_extension": ".py",
   "mimetype": "text/x-python",
   "name": "python",
   "nbconvert_exporter": "python",
   "pygments_lexer": "ipython3",
   "version": "3.7.9"
  },
  "papermill": {
   "default_parameters": {},
   "duration": 10.531071,
   "end_time": "2021-05-10T19:26:35.177216",
   "environment_variables": {},
   "exception": null,
   "input_path": "__notebook__.ipynb",
   "output_path": "__notebook__.ipynb",
   "parameters": {},
   "start_time": "2021-05-10T19:26:24.646145",
   "version": "2.3.2"
  }
 },
 "nbformat": 4,
 "nbformat_minor": 5
}
